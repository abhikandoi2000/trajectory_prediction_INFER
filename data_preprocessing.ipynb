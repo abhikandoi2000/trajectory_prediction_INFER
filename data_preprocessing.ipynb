{
 "cells": [
  {
   "cell_type": "code",
   "execution_count": 3,
   "metadata": {
    "scrolled": true
   },
   "outputs": [
    {
     "name": "stdout",
     "output_type": "stream",
     "text": [
      "======\n",
      "Loading NuScenes tables for version v1.0-mini...\n",
      "23 category,\n",
      "8 attribute,\n",
      "4 visibility,\n",
      "911 instance,\n",
      "12 sensor,\n",
      "120 calibrated_sensor,\n",
      "31206 ego_pose,\n",
      "8 log,\n",
      "10 scene,\n",
      "404 sample,\n",
      "31206 sample_data,\n",
      "18538 sample_annotation,\n",
      "4 map,\n",
      "Done loading in 0.5 seconds.\n",
      "======\n",
      "Reverse indexing ...\n",
      "Done reverse indexing in 0.1 seconds.\n",
      "======\n"
     ]
    }
   ],
   "source": [
    "%matplotlib inline\n",
    "from nuscenes.nuscenes import NuScenes\n",
    "import matplotlib.pyplot as plt\n",
    "import numpy as np\n",
    "import copy\n",
    "import PIL\n",
    "import os\n",
    "from skimage import color\n",
    "from nuscenes.utils.geometry_utils import view_points, box_in_image, BoxVisibility, transform_matrix\n",
    "from nuscenes.utils.data_classes import LidarPointCloud\n",
    "from pyquaternion import Quaternion\n",
    "nusc = NuScenes(version='v1.0-mini', dataroot='data/sets/nuscenes', verbose=True)"
   ]
  },
  {
   "cell_type": "code",
   "execution_count": 4,
   "metadata": {},
   "outputs": [],
   "source": [
    "import os.path as osp"
   ]
  },
  {
   "cell_type": "code",
   "execution_count": 5,
   "metadata": {},
   "outputs": [],
   "source": [
    "palette = {}\n",
    "\n",
    "palette['Bird'] = [165, 42, 42]\n",
    "palette['Ground Animal'] = [0, 192, 0]\n",
    "palette['Curb'] = [196, 196, 196]\n",
    "palette['Fence'] = [190, 153, 153]\n",
    "palette['Guard Rail'] = [180, 165, 180]\n",
    "palette['Barrier'] = [90, 120, 150]\n",
    "palette['Wall'] = [102, 102, 156]\n",
    "palette['Bile Lane'] = [128, 64, 255]\n",
    "palette['Crosswalk - Plain'] = [140, 140, 200]\n",
    "palette['Curb Cut'] = [170, 170, 170]\n",
    "palette['Parking'] = [250, 170, 160]\n",
    "palette['Pedestrian Area'] = [96, 96, 96]\n",
    "palette['Rail Track'] = [230, 150, 140]\n",
    "palette['Road'] = [128, 64, 128]\n",
    "palette['Service Lane'] = [110, 110, 110]\n",
    "palette['Sidewalk'] = [244, 35, 232]\n",
    "palette['Bridge'] = [150, 100, 100]\n",
    "palette['Building'] = [70, 70, 70]\n",
    "palette['Tunnel'] = [150, 120, 90]\n",
    "palette['Person'] = [220, 20, 60]\n",
    "palette['Bicyclist'] = [255, 0, 0]\n",
    "palette['Motorcyclist'] = [255, 0, 100]\n",
    "palette['Other Rider'] = [255, 0, 200]\n",
    "palette['Lane Marking - Crosswalk'] = [200, 128, 128]\n",
    "palette['Lane Marking - General'] = [255, 255, 255]\n",
    "palette['Mountain'] = [64, 170, 64]\n",
    "palette['Sand'] = [230, 160, 50]\n",
    "palette['Sky'] = [70, 130, 180]\n",
    "palette['Snow'] = [190, 255, 255]\n",
    "palette['Terrain'] = [152, 251, 152]\n",
    "palette['Vegetation'] = [107, 142, 35]\n",
    "palette['Water'] = [0, 170, 30]\n",
    "palette['Banner'] = [255, 255, 128]\n",
    "palette['Bench'] = [250, 0, 30]\n",
    "palette['Bike Rack'] = [100, 140, 180]\n",
    "palette['Billboard'] = [220, 220, 220]\n",
    "palette['Catch Basin'] = [220, 128, 128]\n",
    "palette['CCTV Camera'] = [222, 40, 40]\n",
    "palette['Fire Hydrant'] = [100, 170, 30]\n",
    "palette['Junction Box'] = [40, 40, 40]\n",
    "palette['Mailbox'] = [33, 33, 33]\n",
    "palette['Manhole'] = [100, 128, 160]\n",
    "palette['Phone Booth'] = [142, 0, 0]\n",
    "palette['Pothole'] = [70, 100, 150]\n",
    "palette['Street Light'] = [210, 170, 100]\n",
    "palette['Pole'] = [153, 153, 153]\n",
    "palette['Traffic Sign Frame'] = [128, 128, 128]\n",
    "palette['Utility Pole'] = [0, 0, 80]\n",
    "palette['Traffic Light'] = [250, 170, 30]\n",
    "palette['Traffic Sign (Back)'] = [192, 192, 192]\n",
    "palette['Traffic Sign (Front)'] = [220, 220, 0]\n",
    "palette['Trash Can'] = [140, 140, 20]\n",
    "palette['Bicycle'] = [119, 11, 32]\n",
    "palette['Boat'] = [150, 0, 255]\n",
    "palette['Bus'] = [0, 60, 100]\n",
    "palette['Car'] = [0, 0, 142]\n",
    "palette['Caravan'] = [0, 0, 90]\n",
    "palette['Motorcycle'] = [0, 0, 230]\n",
    "palette['On Rails'] = [0, 80, 100]\n",
    "palette['Other Vehicle'] = [128, 64, 64]\n",
    "palette['Trailer'] = [0, 0, 110]\n",
    "palette['Truck'] = [0, 0, 70]\n",
    "palette['Wheeled Slow'] = [0, 0, 192]\n",
    "palette['Car Mount'] = [32, 32, 32]\n",
    "palette['Ego Vehicle'] = [120, 10, 10]\n",
    "\n",
    "for k in palette.keys():\n",
    "    palette[k].append(255)"
   ]
  },
  {
   "cell_type": "code",
   "execution_count": 6,
   "metadata": {},
   "outputs": [],
   "source": [
    "pixel_to_classidx = {}\n",
    "class_to_idx = {}\n",
    "count = 0 \n",
    "for k in palette: \n",
    "    pixel_to_classidx[tuple(palette[k])] = (k, count)\n",
    "    class_to_idx[k] = count\n",
    "    count+=1"
   ]
  },
  {
   "cell_type": "code",
   "execution_count": 7,
   "metadata": {},
   "outputs": [
    {
     "data": {
      "text/plain": [
       "{'Bird': 0,\n",
       " 'Ground Animal': 1,\n",
       " 'Curb': 2,\n",
       " 'Fence': 3,\n",
       " 'Guard Rail': 4,\n",
       " 'Barrier': 5,\n",
       " 'Wall': 6,\n",
       " 'Bile Lane': 7,\n",
       " 'Crosswalk - Plain': 8,\n",
       " 'Curb Cut': 9,\n",
       " 'Parking': 10,\n",
       " 'Pedestrian Area': 11,\n",
       " 'Rail Track': 12,\n",
       " 'Road': 13,\n",
       " 'Service Lane': 14,\n",
       " 'Sidewalk': 15,\n",
       " 'Bridge': 16,\n",
       " 'Building': 17,\n",
       " 'Tunnel': 18,\n",
       " 'Person': 19,\n",
       " 'Bicyclist': 20,\n",
       " 'Motorcyclist': 21,\n",
       " 'Other Rider': 22,\n",
       " 'Lane Marking - Crosswalk': 23,\n",
       " 'Lane Marking - General': 24,\n",
       " 'Mountain': 25,\n",
       " 'Sand': 26,\n",
       " 'Sky': 27,\n",
       " 'Snow': 28,\n",
       " 'Terrain': 29,\n",
       " 'Vegetation': 30,\n",
       " 'Water': 31,\n",
       " 'Banner': 32,\n",
       " 'Bench': 33,\n",
       " 'Bike Rack': 34,\n",
       " 'Billboard': 35,\n",
       " 'Catch Basin': 36,\n",
       " 'CCTV Camera': 37,\n",
       " 'Fire Hydrant': 38,\n",
       " 'Junction Box': 39,\n",
       " 'Mailbox': 40,\n",
       " 'Manhole': 41,\n",
       " 'Phone Booth': 42,\n",
       " 'Pothole': 43,\n",
       " 'Street Light': 44,\n",
       " 'Pole': 45,\n",
       " 'Traffic Sign Frame': 46,\n",
       " 'Utility Pole': 47,\n",
       " 'Traffic Light': 48,\n",
       " 'Traffic Sign (Back)': 49,\n",
       " 'Traffic Sign (Front)': 50,\n",
       " 'Trash Can': 51,\n",
       " 'Bicycle': 52,\n",
       " 'Boat': 53,\n",
       " 'Bus': 54,\n",
       " 'Car': 55,\n",
       " 'Caravan': 56,\n",
       " 'Motorcycle': 57,\n",
       " 'On Rails': 58,\n",
       " 'Other Vehicle': 59,\n",
       " 'Trailer': 60,\n",
       " 'Truck': 61,\n",
       " 'Wheeled Slow': 62,\n",
       " 'Car Mount': 63,\n",
       " 'Ego Vehicle': 64}"
      ]
     },
     "execution_count": 7,
     "metadata": {},
     "output_type": "execute_result"
    }
   ],
   "source": [
    "class_to_idx"
   ]
  },
  {
   "cell_type": "code",
   "execution_count": 8,
   "metadata": {},
   "outputs": [],
   "source": [
    "def get_seg(og_seg, plot_images=False, colortype='rgb'):\n",
    "    '''\n",
    "    og_seg - image from which intermediate representations will be extracted from (array)\n",
    "    plot_images - plots images if True, does not plot if False\n",
    "    colortype - 'binary': plots 1 or 0 (used for occupancy grid), 'grayscale': plots in grayscale for lidar mapping,\n",
    "                'rgb' or any other string: plots in original palette colors\n",
    "    returns ret - list of intermediate representations(road, lane, and obstacle in that order so far)\n",
    "    '''\n",
    "    if(plot_images):\n",
    "        plt.figure()\n",
    "        plt.imshow(og_seg)\n",
    "    ret = []\n",
    "    #road segmentation\n",
    "    inter_seg_road = copy.deepcopy(og_seg)\n",
    "    inter_seg_road[(og_seg != palette['Road']).any(axis=2)] = [0,0,0,255]  \n",
    "    ret.append(inter_seg_road)\n",
    "    \n",
    "    #lane segmentation\n",
    "    inter_seg_lane = copy.deepcopy(og_seg)\n",
    "    crosswalk = (og_seg != palette['Lane Marking - Crosswalk']).any(axis=2)\n",
    "    general = (og_seg != palette['Lane Marking - General']).any(axis=2) \n",
    "    inter_seg_lane[np.logical_and(crosswalk, general)] = [0,0,0,255] \n",
    "    ret.append(inter_seg_lane)\n",
    "    \n",
    "    #obstacle segmentation (did not include Curb Cut as obstacle but did include Curb)\n",
    "    inter_seg_obstacle = copy.deepcopy(og_seg)\n",
    "    building = (og_seg != palette['Building']).any(axis=2)\n",
    "    curb = (og_seg != palette['Curb']).any(axis=2)\n",
    "    vegetation = (og_seg != palette['Vegetation']).any(axis=2)\n",
    "    inter_seg_obstacle[np.logical_and(np.logical_and(building,curb),vegetation)] = [0,0,0,255]\n",
    "    ret.append(inter_seg_obstacle)\n",
    "    \n",
    "    if(colortype == 'grayscale'):\n",
    "        for i in range(0, len(ret)):\n",
    "            temp = color.rgb2gray(ret[i])\n",
    "            ret[i] = temp\n",
    "            \n",
    "    elif(colortype == 'binary'):\n",
    "        for i in range(0, len(ret)):\n",
    "            temp = color.rgb2gray(ret[i])\n",
    "            temp[temp > 0] = 1\n",
    "            ret[i] = temp\n",
    "    \n",
    "    \n",
    "    if(plot_images):\n",
    "        for i in ret:\n",
    "            plt.figure()\n",
    "            if(colortype =='grayscale'):\n",
    "                plt.imshow(i, cmap='gray')\n",
    "            else:\n",
    "                plt.imshow(i)\n",
    "    return ret\n",
    "    \n",
    "    "
   ]
  },
  {
   "cell_type": "code",
   "execution_count": null,
   "metadata": {},
   "outputs": [],
   "source": [
    "source_dir = 'data/sets/nuscenes/samples/CAM_FRONT'\n",
    "target_dir_road = 'data/sets/nuscenes/samples/ROAD_SEG'\n",
    "target_dir_lane = 'data/sets/nuscenes/samples/LANE_SEG'\n",
    "target_dir_obstacle = 'data/sets/nuscenes/samples/OBSTACLE_SEG'\n",
    "target_dirs = [target_dir_road, target_dir_lane, target_dir_obstacle]\n",
    "num_files = len(os.listdir(source_dir))\n",
    "for i, filename in enumerate(os.listdir(source_dir)):\n",
    "    if i % 10 == 0:\n",
    "        print('Saving image '+str(i)+' of '+str(num_files))\n",
    "    if filename.endswith(\".jpg\"): \n",
    "        full_filename = os.path.join(source_dir, filename);\n",
    "        og_seg = plt.imread(full_filename);\n",
    "        inter_segs = get_seg(og_seg);\n",
    "        for j in range(0,len(target_dirs)):\n",
    "            plt.imsave(os.path.join(target_dirs[j], filename), inter_segs[j]);\n",
    "        if i == 10: # delete this if you wanna save more than the first 10 images\n",
    "            break"
   ]
  },
  {
   "cell_type": "code",
   "execution_count": 9,
   "metadata": {},
   "outputs": [],
   "source": [
    "target_dir = 'data/sets/nuscenes/sweeps/CAM_FRONT'\n",
    "num_files = len(os.listdir(target_dir))\n"
   ]
  },
  {
   "cell_type": "code",
   "execution_count": 8,
   "metadata": {},
   "outputs": [
    {
     "data": {
      "image/png": "[encoded data removed]",
      "text/plain": [
       "<Figure size 432x288 with 1 Axes>"
      ]
     },
     "metadata": {
      "needs_background": "light"
     },
     "output_type": "display_data"
    },
    {
     "data": {
      "image/png": "[encoded data removed]",
      "text/plain": [
       "<Figure size 432x288 with 1 Axes>"
      ]
     },
     "metadata": {
      "needs_background": "light"
     },
     "output_type": "display_data"
    },
    {
     "data": {
      "image/png": "[encoded data removed]",
      "text/plain": [
       "<Figure size 432x288 with 1 Axes>"
      ]
     },
     "metadata": {
      "needs_background": "light"
     },
     "output_type": "display_data"
    },
    {
     "data": {
      "image/png": "[encoded data removed]",
      "text/plain": [
       "<Figure size 432x288 with 1 Axes>"
      ]
     },
     "metadata": {
      "needs_background": "light"
     },
     "output_type": "display_data"
    }
   ],
   "source": [
    "test_og = plt.imread('./data/sets/nuscenes/samples/CAM_FRONT/n008-2018-08-01-15-16-36-0400__CAM_FRONT__1533151603512404.jpg')\n",
    "zz = get_seg(test_og, plot_images=True, colortype='binary')"
   ]
  },
  {
   "cell_type": "code",
   "execution_count": 9,
   "metadata": {},
   "outputs": [
    {
     "data": {
      "text/plain": [
       "469139"
      ]
     },
     "execution_count": 9,
     "metadata": {},
     "output_type": "execute_result"
    }
   ],
   "source": [
    "np.count_nonzero(zz[0])"
   ]
  },
  {
   "cell_type": "code",
   "execution_count": null,
   "metadata": {},
   "outputs": [],
   "source": []
  },
  {
   "cell_type": "code",
   "execution_count": 10,
   "metadata": {},
   "outputs": [
    {
     "name": "stdout",
     "output_type": "stream",
     "text": [
      "scene-0061, Parked truck, construction, intersectio... [18-07-24 03:28:47]   19s, singapore-onenorth, #anns:4622\n",
      "scene-0103, Many peds right, wait for turning car, ... [18-08-01 19:26:43]   19s, boston-seaport, #anns:2046\n",
      "scene-0655, Parking lot, parked cars, jaywalker, be... [18-08-27 15:51:32]   20s, boston-seaport, #anns:2332\n",
      "scene-0553, Wait at intersection, bicycle, large tr... [18-08-28 20:48:16]   20s, boston-seaport, #anns:1950\n",
      "scene-0757, Arrive at busy intersection, bus, wait ... [18-08-30 19:25:08]   20s, boston-seaport, #anns:592\n",
      "scene-0796, Scooter, peds on sidewalk, bus, cars, t... [18-10-02 02:52:24]   20s, singapore-queensto, #anns:708\n",
      "scene-0916, Parking lot, bicycle rack, parked bicyc... [18-10-08 07:37:13]   20s, singapore-queensto, #anns:2387\n",
      "scene-1077, Night, big street, bus stop, high speed... [18-11-21 11:39:27]   20s, singapore-hollandv, #anns:890\n",
      "scene-1094, Night, after rain, many peds, PMD, ped ... [18-11-21 11:47:27]   19s, singapore-hollandv, #anns:1762\n",
      "scene-1100, Night, peds in sidewalk, peds cross cro... [18-11-21 11:49:47]   19s, singapore-hollandv, #anns:935\n"
     ]
    }
   ],
   "source": [
    "nusc.list_scenes()"
   ]
  },
  {
   "cell_type": "code",
   "execution_count": 11,
   "metadata": {},
   "outputs": [],
   "source": [
    "#for a given scene be able to iterate through the scene and retrieve the camera data and lidar data \n",
    "#and store it\n",
    "\n",
    "#once the corresponding camera lidar data retrieved, perform the transformation between lidar to image plane \n",
    "#and get the semantic class. Project to lidar points to BEV and start creating the intermediate represnetation \n"
   ]
  },
  {
   "cell_type": "code",
   "execution_count": 12,
   "metadata": {},
   "outputs": [
    {
     "data": {
      "text/plain": [
       "{'token': 'e3d495d4ac534d54b321f50006683844',\n",
       " 'sample_token': 'ca9a282c9e77460f8360f564131a8af5',\n",
       " 'ego_pose_token': 'e3d495d4ac534d54b321f50006683844',\n",
       " 'calibrated_sensor_token': '1d31c729b073425e8e0202c5c6e66ee1',\n",
       " 'timestamp': 1532402927612460,\n",
       " 'fileformat': 'jpg',\n",
       " 'is_key_frame': True,\n",
       " 'height': 900,\n",
       " 'width': 1600,\n",
       " 'filename': 'samples/CAM_FRONT/n015-2018-07-24-11-22-45+0800__CAM_FRONT__1532402927612460.jpg',\n",
       " 'prev': '',\n",
       " 'next': '68e8e98cf7b0487baa139df808641db7',\n",
       " 'sensor_modality': 'camera',\n",
       " 'channel': 'CAM_FRONT'}"
      ]
     },
     "execution_count": 12,
     "metadata": {},
     "output_type": "execute_result"
    }
   ],
   "source": [
    "my_scene = nusc.scene[0]\n",
    "first_sample_token = my_scene['first_sample_token']\n",
    "my_sample = nusc.get('sample', first_sample_token)\n",
    "# nusc.list_sample(my_sample['token'])\n",
    "my_sample['data']\n",
    "sensor = 'CAM_FRONT'\n",
    "cam_front_data = nusc.get('sample_data', my_sample['data'][sensor])\n",
    "cam_front_data\n"
   ]
  },
  {
   "cell_type": "code",
   "execution_count": 13,
   "metadata": {},
   "outputs": [
    {
     "data": {
      "text/plain": [
       "{'token': '9d9bf11fb0e144c8b446d54a8a00184f',\n",
       " 'sample_token': 'ca9a282c9e77460f8360f564131a8af5',\n",
       " 'ego_pose_token': '9d9bf11fb0e144c8b446d54a8a00184f',\n",
       " 'calibrated_sensor_token': 'a183049901c24361a6b0b11b8013137c',\n",
       " 'timestamp': 1532402927647951,\n",
       " 'fileformat': 'pcd',\n",
       " 'is_key_frame': True,\n",
       " 'height': 0,\n",
       " 'width': 0,\n",
       " 'filename': 'samples/LIDAR_TOP/n015-2018-07-24-11-22-45+0800__LIDAR_TOP__1532402927647951.pcd.bin',\n",
       " 'prev': '',\n",
       " 'next': '0cedf1d2d652468d92d23491136b5d15',\n",
       " 'sensor_modality': 'lidar',\n",
       " 'channel': 'LIDAR_TOP'}"
      ]
     },
     "execution_count": 13,
     "metadata": {},
     "output_type": "execute_result"
    }
   ],
   "source": [
    "sensor = 'LIDAR_TOP'\n",
    "lidar_data = nusc.get('sample_data', my_sample['data'][sensor])\n",
    "lidar_data"
   ]
  },
  {
   "cell_type": "code",
   "execution_count": 14,
   "metadata": {},
   "outputs": [
    {
     "data": {
      "text/plain": [
       "'68e8e98cf7b0487baa139df808641db7'"
      ]
     },
     "execution_count": 14,
     "metadata": {},
     "output_type": "execute_result"
    }
   ],
   "source": [
    "cam_front_data['next']"
   ]
  },
  {
   "cell_type": "code",
   "execution_count": 15,
   "metadata": {},
   "outputs": [
    {
     "name": "stdout",
     "output_type": "stream",
     "text": [
      "{'token': 'fcbccedd61424f1b85dcbf8f897f9754', 'log_token': '53cf9c55dd8644bea67b9f009fc1ee38', 'nbr_samples': 40, 'first_sample_token': '3e8750f331d7499e9b5123e9eb70f2e2', 'last_sample_token': '281b92269fd648d4b52d06ac06ca6d65', 'name': 'scene-0103', 'description': 'Many peds right, wait for turning car, long bike rack left, cyclist'}\n"
     ]
    }
   ],
   "source": [
    "# Get records from DB\n",
    "my_scene_token = nusc.field2token('scene', 'name', 'scene-0103')[0]\n",
    "scene_rec = nusc.get('scene', my_scene_token)\n",
    "print(scene_rec)\n",
    "has_more_samples = True \n"
   ]
  },
  {
   "cell_type": "code",
   "execution_count": 16,
   "metadata": {},
   "outputs": [],
   "source": [
    "def get_semantic_class(points, cam_img):\n",
    "    num_points = points.shape[1]\n",
    "#     row, column = cam_img.shape[0], cam_img.shape[1]\n",
    "#     lidar_map = np.zeros(row, column)\n",
    "#     for i in range(num_points):\n",
    "#         current_point = np.round(points[:,i][:2])\n",
    "#         r = int(current_point[0])\n",
    "#         c = int(current_point[1])\n",
    "#         if r < cam_img.shape[0] and c < cam_img.shape[1] and\\\n",
    "#            r >= 0 and c >= 0:\n",
    "#             lidar_map[r, c] = 1 \n",
    "    \n",
    "#     segmentations = get_seg(cam_img, colortype='binary')\n",
    "    class_vec = [-1] * num_points\n",
    "    for i in range(num_points):\n",
    "        current_point = np.round(points[:,i][:2])\n",
    "        r = int(current_point[0])\n",
    "        c = int(current_point[1])\n",
    "        if r < cam_img.shape[0] and c < cam_img.shape[1] and\\\n",
    "           r >= 0 and c >= 0:\n",
    "            object_type, class_id = pixel_to_classidx[(tuple(cam_img[r,c]))]\n",
    "            class_vec[i] = class_id\n",
    "    return class_vec"
   ]
  },
  {
   "cell_type": "code",
   "execution_count": 17,
   "metadata": {},
   "outputs": [],
   "source": [
    "def get_intermediate_rep(BEV_points, semantic_class_per_point):\n",
    "    num_points = BEV_points.shape[1]\n",
    "    row, column = cam_data_arr.shape[0], cam_data_arr.shape[1]\n",
    "    lidar_seg_img = np.zeros((row, column))\n",
    "    \n",
    "    for i in range(num_points):\n",
    "        current_point = np.round(BEV_points[:,i][:2])\n",
    "        r = int(current_point[0])\n",
    "        c = int(current_point[1])\n",
    "        semantic_class = semantic_class_per_point[i]\n",
    "        if semantic_class == -1: \n",
    "            continue\n",
    "        \n",
    "        lidar_seg_img[r,c] = semantic_class\n",
    "    \n",
    "    #extract the road representations\n",
    "    road_rep = np.zeros((row, column))\n",
    "    road_rep[lidar_seg_img == class_to_idx['Road']] = 1 \n",
    "    \n",
    "    return road_rep\n",
    "    \n"
   ]
  },
  {
   "cell_type": "code",
   "execution_count": 18,
   "metadata": {},
   "outputs": [],
   "source": [
    "def get_BEV_lidar_points(pointsensor_token):\n",
    "    \n",
    "    sd_record = nusc.get('sample_data', pointsensor_token)\n",
    "\n",
    "    sample_rec = nusc.get('sample', sd_record['sample_token'])\n",
    "    chan = sd_record['channel']\n",
    "    ref_chan = 'LIDAR_TOP'\n",
    "#     ref_sd_token = sd_record['data'][ref_chan]\n",
    "    ref_sd_token = sample_rec['data']['ref_chan']\n",
    "    ref_sd_record = nusc.get('sample_data', ref_sd_token)\n",
    "\n",
    "    # Get aggregated lidar point cloud in lidar frame.\n",
    "    pc, times = LidarPointCloud.from_file_multisweep(nusc, sd_record, chan, 'LIDAR_TOP', nsweeps=1)\n",
    "\n",
    "    # By default we render the sample_data top down in the sensor frame.\n",
    "    # This is slightly inaccurate when rendering the map as the sensor frame may not be perfectly upright.\n",
    "    # Using use_flat_vehicle_coordinates we can render the map in the ego frame instead.\n",
    "        # Retrieve transformation matrices for reference point cloud.\n",
    "    cs_record = nusc.get('calibrated_sensor', ref_sd_record['calibrated_sensor_token'])\n",
    "    pose_record = nusc.get('ego_pose', ref_sd_record['ego_pose_token'])\n",
    "    ref_to_ego = transform_matrix(translation=cs_record['translation'],\n",
    "                                  rotation=Quaternion(cs_record[\"rotation\"]))\n",
    "\n",
    "    # Compute rotation between 3D vehicle pose and \"flat\" vehicle pose (parallel to global z plane).\n",
    "    ego_yaw = Quaternion(pose_record['rotation']).yaw_pitch_roll[0]\n",
    "    rotation_vehicle_flat_from_vehicle = np.dot(\n",
    "        Quaternion(scalar=np.cos(ego_yaw / 2), vector=[0, 0, np.sin(ego_yaw / 2)]).rotation_matrix,\n",
    "        Quaternion(pose_record['rotation']).inverse.rotation_matrix)\n",
    "    vehicle_flat_from_vehicle = np.eye(4)\n",
    "    vehicle_flat_from_vehicle[:3, :3] = rotation_vehicle_flat_from_vehicle\n",
    "    viewpoint = np.dot(vehicle_flat_from_vehicle, ref_to_ego)\n",
    "\n",
    "    # get points that are in BEV\n",
    "    points = view_points(pc.points[:3, :], viewpoint, normalize=False)\n",
    "    \n",
    "#         dists = np.sqrt(np.sum(pc.points[:2, :] ** 2, axis=0))\n",
    "#         colors = np.minimum(1, dists / axes_limit / np.sqrt(2))\n",
    "#         point_scale = 0.2 if sensor_modality == 'lidar' else 3.0\n",
    "#         scatter = ax.scatter(points[0, :], points[1, :], c=colors, s=point_scale)\n",
    "\n",
    "    return points\n",
    "\n"
   ]
  },
  {
   "cell_type": "code",
   "execution_count": 19,
   "metadata": {},
   "outputs": [],
   "source": [
    "def rotate(points, rotation_matrix):\n",
    "#     import pdb; pdb.set_trace()\n",
    "    new_points = copy.deepcopy(points)\n",
    "    new_points[:3, :] = np.dot(rotation_matrix, new_points[:3, :])\n",
    "    return new_points \n",
    "    \n",
    "def translate(points, x):\n",
    "#     import pdb; pdb.set_trace()\n",
    "    new_points = copy.deepcopy(points)\n",
    "    for i in range(3):\n",
    "        new_points[i, :] = new_points[i, :] + x[i]\n",
    "    return new_points\n"
   ]
  },
  {
   "cell_type": "code",
   "execution_count": 20,
   "metadata": {},
   "outputs": [],
   "source": [
    "def tranform_image_to_point_cloud(points, pointsensor_token, camera_token):\n",
    "    '''\n",
    "        maps points in image frame to sensor frame \n",
    "    '''\n",
    "    cam = nusc.get('sample_data', camera_token)\n",
    "    pointsensor = nusc.get('sample_data', pointsensor_token)\n",
    "    \n",
    "    init_points = copy.deepcopy(points)\n",
    "    \n",
    "    #transform out of camera to ego vehicle frame\n",
    "    cs_record = nusc.get('calibrated_sensor', cam['calibrated_sensor_token'])\n",
    "    p1 = rotate(points, Quaternion(cs_record['rotation']).rotation_matrix)\n",
    "    p2 = translate(p1, np.array(cs_record['translation']))\n",
    "    \n",
    "    #transform from ego vehicle frame to global frame\n",
    "    poserecord = nusc.get('ego_pose', cam['ego_pose_token'])\n",
    "    p3 = rotate(p2, Quaternion(poserecord['rotation']).rotation_matrix)\n",
    "    p4 = translate(p3, np.array(poserecord['translation']))\n",
    "    \n",
    "    poserecord = nusc.get('ego_pose', pointsensor['ego_pose_token'])\n",
    "    p5 = translate(p4, -np.array(poserecord['translation']))\n",
    "    p6 = rotate(p5, Quaternion(poserecord['rotation']).rotation_matrix.T)\n",
    "\n",
    "    cs_record = nusc.get('calibrated_sensor', pointsensor['calibrated_sensor_token'])\n",
    "    p7 = translate(p6, -np.array(cs_record['translation']))\n",
    "    p8 = rotate(p7, Quaternion(cs_record['rotation']).rotation_matrix.T)\n",
    "    \n",
    "    assert(init_points[:3,:] != p8[:3,:]).all()\n",
    "    \n",
    "    return p8"
   ]
  },
  {
   "cell_type": "code",
   "execution_count": 22,
   "metadata": {},
   "outputs": [],
   "source": [
    "def transform_point_cloud_to_image(pointsensor_token, camera_token, return_initial=False):\n",
    "    '''\n",
    "        maps points from sensor frame to image plane\n",
    "    '''\n",
    "    \n",
    "    cam = nusc.get('sample_data', camera_token)\n",
    "    pointsensor = nusc.get('sample_data', pointsensor_token)\n",
    "    sample_rec = nusc.get('sample', )\n",
    "#     pcl_path = osp.join(nusc.dataroot, pointsensor['filename'])\n",
    "#     pc = LidarPointCloud.from_file(pcl_path)\n",
    "    \n",
    "#     pc, times = \n",
    "\n"
   ]
  },
  {
   "cell_type": "code",
   "execution_count": 28,
   "metadata": {},
   "outputs": [],
   "source": [
    "def get_lidar_data_pc(lidar_data_token, nsweeps=1):\n",
    "    sd_record = nusc.get('sample_data', lidar_data_token)\n",
    "    sample_rec = nusc.get('sample', sd_record['sample_token'])\n",
    "    chan = sd_record['channel']\n",
    "    ref_channel = 'LIDAR_TOP'\n",
    "    ref_sd_token = sample_rec['data'][ref_channel]\n",
    "    ref_sd_record = nusc.get('sample_data', ref_sd_token)\n",
    "    pc, times = LidarPointCloud.from_file_multisweep(nusc, sample_rec, chan, ref_channel, nsweeps=nsweeps)\n",
    "    return pc, times\n"
   ]
  },
  {
   "cell_type": "code",
   "execution_count": 36,
   "metadata": {},
   "outputs": [],
   "source": [
    "def project_points_to_image(pc, lidar_data, cam):\n",
    "    cs_record = nusc.get('calibrated_sensor', lidar_data['calibrated_sensor_token'])\n",
    "    pc.rotate(Quaternion(cs_record['rotation']).rotation_matrix)\n",
    "    pc.translate(np.array(cs_record['translation']))\n",
    "\n",
    "    # Second step: transform to the global frame.\n",
    "    poserecord = nusc.get('ego_pose', lidar_data['ego_pose_token'])\n",
    "    pc.rotate(Quaternion(poserecord['rotation']).rotation_matrix)\n",
    "    pc.translate(np.array(poserecord['translation']))\n",
    "    \n",
    "    global_frame_pc = copy.deepcopy(pc)  \n",
    "\n",
    "    # Third step: transform into the ego vehicle frame for the timestamp of the image.\n",
    "    poserecord = nusc.get('ego_pose', cam['ego_pose_token'])\n",
    "    pc.translate(-np.array(poserecord['translation']))\n",
    "    pc.rotate(Quaternion(poserecord['rotation']).rotation_matrix.T)\n",
    "\n",
    "    # Fourth step: transform into the camera.\n",
    "    cs_record = nusc.get('calibrated_sensor', cam['calibrated_sensor_token'])\n",
    "    pc.translate(-np.array(cs_record['translation']))\n",
    "    pc.rotate(Quaternion(cs_record['rotation']).rotation_matrix.T)\n",
    "    \n",
    "    return pc, global_frame_pc\n",
    "    "
   ]
  },
  {
   "cell_type": "code",
   "execution_count": 43,
   "metadata": {},
   "outputs": [],
   "source": [
    "def mask_img_points(points, depths, cam_data_arr, min_dist=1.0):\n",
    "    mask = np.ones(depths.shape[0], dtype=bool)\n",
    "    mask = np.logical_and(mask, depths > min_dist)\n",
    "    mask = np.logical_and(mask, points[0, :] > 1)\n",
    "    mask = np.logical_and(mask, points[0, :] < cam_data_arr.shape[1] - 1)\n",
    "    mask = np.logical_and(mask, points[1, :] > 1)\n",
    "    mask = np.logical_and(mask, points[1, :] < cam_data_arr.shape[0] - 1)\n",
    "    return mask"
   ]
  },
  {
   "cell_type": "code",
   "execution_count": 49,
   "metadata": {},
   "outputs": [],
   "source": [
    "def project_points_to_BEV(pc, lidar_data):\n",
    "    cs_record = nusc.get('calibrated_sensor', lidar_data['calibrated_sensor_token'])\n",
    "    pose_record = nusc.get('ego_pose', lidar_data['ego_pose_token'])\n",
    "    ref_to_ego = transform_matrix(translation=cs_record['translation'],\n",
    "                                  rotation=Quaternion(cs_record[\"rotation\"]))\n",
    "\n",
    "    # Compute rotation between 3D vehicle pose and \"flat\" vehicle pose (parallel to global z plane).\n",
    "    ego_yaw = Quaternion(pose_record['rotation']).yaw_pitch_roll[0]\n",
    "    rotation_vehicle_flat_from_vehicle = np.dot(\n",
    "        Quaternion(scalar=np.cos(ego_yaw / 2), vector=[0, 0, np.sin(ego_yaw / 2)]).rotation_matrix,\n",
    "        Quaternion(pose_record['rotation']).inverse.rotation_matrix)\n",
    "    vehicle_flat_from_vehicle = np.eye(4)\n",
    "    vehicle_flat_from_vehicle[:3, :3] = rotation_vehicle_flat_from_vehicle\n",
    "    viewpoint = np.dot(vehicle_flat_from_vehicle, ref_to_ego) \n",
    "    points = view_points(pc.points[:3, :], viewpoint, normalize=False)\n",
    "    return points\n",
    "    "
   ]
  },
  {
   "cell_type": "code",
   "execution_count": 50,
   "metadata": {},
   "outputs": [
    {
     "name": "stdout",
     "output_type": "stream",
     "text": [
      "> <ipython-input-50-1ffc13c99257>(36)<module>()\n",
      "-> semantic_class_points = get_semantic_class(valid_img_points, cam_data_arr) #for each point vec containing the class it's in\n",
      "(Pdb) n\n",
      "> <ipython-input-50-1ffc13c99257>(39)<module>()\n",
      "-> BEV_points = project_points_to_BEV(pc, lidar_data)\n",
      "(Pdb) len(semantic_class_points)\n",
      "2545\n",
      "(Pdb) valid_img_points.shape\n",
      "(4, 2545)\n",
      "(Pdb) n\n",
      "> <ipython-input-50-1ffc13c99257>(41)<module>()\n",
      "-> corresponding_BEV_points = BEV_points[:,mask]\n",
      "(Pdb) n\n",
      "> <ipython-input-50-1ffc13c99257>(87)<module>()\n",
      "-> if not sample_rec['next'] == \"\":\n",
      "(Pdb) corresponding_BEV_points.shape\n",
      "(3, 2545)\n",
      "(Pdb) q\n"
     ]
    },
    {
     "ename": "BdbQuit",
     "evalue": "",
     "output_type": "error",
     "traceback": [
      "\u001b[0;31m---------------------------------------------------------------------------\u001b[0m",
      "\u001b[0;31mBdbQuit\u001b[0m                                   Traceback (most recent call last)",
      "\u001b[0;32m<ipython-input-50-1ffc13c99257>\u001b[0m in \u001b[0;36m<module>\u001b[0;34m\u001b[0m\n\u001b[1;32m     85\u001b[0m     \u001b[0;31m#for each lidar_point_in_image -> do the semantic segmentation\u001b[0m\u001b[0;34m\u001b[0m\u001b[0;34m\u001b[0m\u001b[0;34m\u001b[0m\u001b[0m\n\u001b[1;32m     86\u001b[0m     \u001b[0;31m#project the corresponding point to BEV and then\u001b[0m\u001b[0;34m\u001b[0m\u001b[0;34m\u001b[0m\u001b[0;34m\u001b[0m\u001b[0m\n\u001b[0;32m---> 87\u001b[0;31m     \u001b[0;32mif\u001b[0m \u001b[0;32mnot\u001b[0m \u001b[0msample_rec\u001b[0m\u001b[0;34m[\u001b[0m\u001b[0;34m'next'\u001b[0m\u001b[0;34m]\u001b[0m \u001b[0;34m==\u001b[0m \u001b[0;34m\"\"\u001b[0m\u001b[0;34m:\u001b[0m\u001b[0;34m\u001b[0m\u001b[0;34m\u001b[0m\u001b[0m\n\u001b[0m\u001b[1;32m     88\u001b[0m         \u001b[0mcurrent_token\u001b[0m \u001b[0;34m=\u001b[0m \u001b[0msample_rec\u001b[0m\u001b[0;34m[\u001b[0m\u001b[0;34m'next'\u001b[0m\u001b[0;34m]\u001b[0m\u001b[0;34m\u001b[0m\u001b[0;34m\u001b[0m\u001b[0m\n\u001b[1;32m     89\u001b[0m     \u001b[0;32melse\u001b[0m\u001b[0;34m:\u001b[0m\u001b[0;34m\u001b[0m\u001b[0;34m\u001b[0m\u001b[0m\n",
      "\u001b[0;32m<ipython-input-50-1ffc13c99257>\u001b[0m in \u001b[0;36m<module>\u001b[0;34m\u001b[0m\n\u001b[1;32m     85\u001b[0m     \u001b[0;31m#for each lidar_point_in_image -> do the semantic segmentation\u001b[0m\u001b[0;34m\u001b[0m\u001b[0;34m\u001b[0m\u001b[0;34m\u001b[0m\u001b[0m\n\u001b[1;32m     86\u001b[0m     \u001b[0;31m#project the corresponding point to BEV and then\u001b[0m\u001b[0;34m\u001b[0m\u001b[0;34m\u001b[0m\u001b[0;34m\u001b[0m\u001b[0m\n\u001b[0;32m---> 87\u001b[0;31m     \u001b[0;32mif\u001b[0m \u001b[0;32mnot\u001b[0m \u001b[0msample_rec\u001b[0m\u001b[0;34m[\u001b[0m\u001b[0;34m'next'\u001b[0m\u001b[0;34m]\u001b[0m \u001b[0;34m==\u001b[0m \u001b[0;34m\"\"\u001b[0m\u001b[0;34m:\u001b[0m\u001b[0;34m\u001b[0m\u001b[0;34m\u001b[0m\u001b[0m\n\u001b[0m\u001b[1;32m     88\u001b[0m         \u001b[0mcurrent_token\u001b[0m \u001b[0;34m=\u001b[0m \u001b[0msample_rec\u001b[0m\u001b[0;34m[\u001b[0m\u001b[0;34m'next'\u001b[0m\u001b[0;34m]\u001b[0m\u001b[0;34m\u001b[0m\u001b[0;34m\u001b[0m\u001b[0m\n\u001b[1;32m     89\u001b[0m     \u001b[0;32melse\u001b[0m\u001b[0;34m:\u001b[0m\u001b[0;34m\u001b[0m\u001b[0;34m\u001b[0m\u001b[0m\n",
      "\u001b[0;32m/opt/conda/lib/python3.7/bdb.py\u001b[0m in \u001b[0;36mtrace_dispatch\u001b[0;34m(self, frame, event, arg)\u001b[0m\n\u001b[1;32m     86\u001b[0m             \u001b[0;32mreturn\u001b[0m \u001b[0;31m# None\u001b[0m\u001b[0;34m\u001b[0m\u001b[0;34m\u001b[0m\u001b[0m\n\u001b[1;32m     87\u001b[0m         \u001b[0;32mif\u001b[0m \u001b[0mevent\u001b[0m \u001b[0;34m==\u001b[0m \u001b[0;34m'line'\u001b[0m\u001b[0;34m:\u001b[0m\u001b[0;34m\u001b[0m\u001b[0;34m\u001b[0m\u001b[0m\n\u001b[0;32m---> 88\u001b[0;31m             \u001b[0;32mreturn\u001b[0m \u001b[0mself\u001b[0m\u001b[0;34m.\u001b[0m\u001b[0mdispatch_line\u001b[0m\u001b[0;34m(\u001b[0m\u001b[0mframe\u001b[0m\u001b[0;34m)\u001b[0m\u001b[0;34m\u001b[0m\u001b[0;34m\u001b[0m\u001b[0m\n\u001b[0m\u001b[1;32m     89\u001b[0m         \u001b[0;32mif\u001b[0m \u001b[0mevent\u001b[0m \u001b[0;34m==\u001b[0m \u001b[0;34m'call'\u001b[0m\u001b[0;34m:\u001b[0m\u001b[0;34m\u001b[0m\u001b[0;34m\u001b[0m\u001b[0m\n\u001b[1;32m     90\u001b[0m             \u001b[0;32mreturn\u001b[0m \u001b[0mself\u001b[0m\u001b[0;34m.\u001b[0m\u001b[0mdispatch_call\u001b[0m\u001b[0;34m(\u001b[0m\u001b[0mframe\u001b[0m\u001b[0;34m,\u001b[0m \u001b[0marg\u001b[0m\u001b[0;34m)\u001b[0m\u001b[0;34m\u001b[0m\u001b[0;34m\u001b[0m\u001b[0m\n",
      "\u001b[0;32m/opt/conda/lib/python3.7/bdb.py\u001b[0m in \u001b[0;36mdispatch_line\u001b[0;34m(self, frame)\u001b[0m\n\u001b[1;32m    111\u001b[0m         \u001b[0;32mif\u001b[0m \u001b[0mself\u001b[0m\u001b[0;34m.\u001b[0m\u001b[0mstop_here\u001b[0m\u001b[0;34m(\u001b[0m\u001b[0mframe\u001b[0m\u001b[0;34m)\u001b[0m \u001b[0;32mor\u001b[0m \u001b[0mself\u001b[0m\u001b[0;34m.\u001b[0m\u001b[0mbreak_here\u001b[0m\u001b[0;34m(\u001b[0m\u001b[0mframe\u001b[0m\u001b[0;34m)\u001b[0m\u001b[0;34m:\u001b[0m\u001b[0;34m\u001b[0m\u001b[0;34m\u001b[0m\u001b[0m\n\u001b[1;32m    112\u001b[0m             \u001b[0mself\u001b[0m\u001b[0;34m.\u001b[0m\u001b[0muser_line\u001b[0m\u001b[0;34m(\u001b[0m\u001b[0mframe\u001b[0m\u001b[0;34m)\u001b[0m\u001b[0;34m\u001b[0m\u001b[0;34m\u001b[0m\u001b[0m\n\u001b[0;32m--> 113\u001b[0;31m             \u001b[0;32mif\u001b[0m \u001b[0mself\u001b[0m\u001b[0;34m.\u001b[0m\u001b[0mquitting\u001b[0m\u001b[0;34m:\u001b[0m \u001b[0;32mraise\u001b[0m \u001b[0mBdbQuit\u001b[0m\u001b[0;34m\u001b[0m\u001b[0;34m\u001b[0m\u001b[0m\n\u001b[0m\u001b[1;32m    114\u001b[0m         \u001b[0;32mreturn\u001b[0m \u001b[0mself\u001b[0m\u001b[0;34m.\u001b[0m\u001b[0mtrace_dispatch\u001b[0m\u001b[0;34m\u001b[0m\u001b[0;34m\u001b[0m\u001b[0m\n\u001b[1;32m    115\u001b[0m \u001b[0;34m\u001b[0m\u001b[0m\n",
      "\u001b[0;31mBdbQuit\u001b[0m: "
     ]
    }
   ],
   "source": [
    "# Get records from DB\n",
    "my_scene_token = nusc.field2token('scene', 'name', 'scene-0103')[0]\n",
    "scene_rec = nusc.get('scene', my_scene_token)\n",
    "current_token = scene_rec['first_sample_token']\n",
    "has_more = True \n",
    "num_samples = 0\n",
    "while has_more: \n",
    "    \n",
    "    num_samples += 1\n",
    "    sample_rec = nusc.get('sample', current_token)\n",
    "    \n",
    "    #get camera data \n",
    "    camera_token = sample_rec['data']['CAM_FRONT']\n",
    "    cam_data_arr = plt.imread('./data/sets/nuscenes/' + cam_front_data['filename'])\n",
    "    cam = nusc.get('sample_data', camera_token)\n",
    "    im = PIL.Image.open(osp.join(nusc.dataroot, cam_front_data['filename']))\n",
    "    \n",
    "    #get lidar data\n",
    "    lidar_data = nusc.get('sample_data', sample_rec['data']['LIDAR_TOP'])\n",
    "    lidar_data_token = lidar_data['token']\n",
    "    \n",
    "    #get the point cloud and the times associated with it \n",
    "    pc, times = get_lidar_data_pc(lidar_data_token, nsweeps=1)\n",
    "    \n",
    "    #get the all lidar data pc in image frame pc in image and global frames \n",
    "    image_pc, global_frame_pc = project_points_to_image(pc, lidar_data, cam)\n",
    "\n",
    "    # Grab the depths (camera frame z axis points away from the camera).\n",
    "    depths = image_pc.points[2, :]\n",
    "    \n",
    "    #construct the mask that removes all points that are outside of img\n",
    "    mask = mask_img_points(image_pc.points, depths, cam_data_arr)\n",
    "    valid_img_points = image_pc.points[:,mask]\n",
    "    import pdb; pdb.set_trace()\n",
    "    \n",
    "    semantic_class_points = get_semantic_class(valid_img_points, cam_data_arr) #for each point vec containing the class it's in\n",
    "    #only need rows 0 and 1 for BEV, can ignore third row based on\n",
    "    #how they plot on scatter plot \n",
    "    BEV_points = project_points_to_BEV(pc, lidar_data)\n",
    "    \n",
    "    #get the corresponding BEV points \n",
    "    corresponding_BEV_points = BEV_points[:,mask]\n",
    "    \n",
    "    # what to do with the semantic class points and corresponding \n",
    "    # BEV points????\n",
    "\n",
    "    if not sample_rec['next'] == \"\":\n",
    "        current_token = sample_rec['next']\n",
    "    else:\n",
    "        has_more = False\n",
    "        "
   ]
  },
  {
   "cell_type": "code",
   "execution_count": 19,
   "metadata": {},
   "outputs": [
    {
     "data": {
      "text/plain": [
       "'data/sets/nuscenes/samples/LIDAR_TOP/n008-2018-08-01-15-16-36-0400__LIDAR_TOP__1533151603547590.pcd.bin'"
      ]
     },
     "execution_count": 19,
     "metadata": {},
     "output_type": "execute_result"
    }
   ],
   "source": [
    "'data/sets/nuscenes/samples/LIDAR_TOP/n008-2018-08-01-15-16-36-0400__LIDAR_TOP__1533151603547590.pcd.bin'"
   ]
  },
  {
   "cell_type": "code",
   "execution_count": 20,
   "metadata": {},
   "outputs": [
    {
     "ename": "NameError",
     "evalue": "name 'lidar_points_in_image' is not defined",
     "output_type": "error",
     "traceback": [
      "\u001b[0;31m---------------------------------------------------------------------------\u001b[0m",
      "\u001b[0;31mNameError\u001b[0m                                 Traceback (most recent call last)",
      "\u001b[0;32m<ipython-input-20-e30881db3d2d>\u001b[0m in \u001b[0;36m<module>\u001b[0;34m\u001b[0m\n\u001b[1;32m      1\u001b[0m \u001b[0mx\u001b[0m \u001b[0;34m=\u001b[0m \u001b[0;34m[\u001b[0m\u001b[0;36m1\u001b[0m\u001b[0;34m,\u001b[0m \u001b[0;36m2\u001b[0m\u001b[0;34m,\u001b[0m \u001b[0;36m3\u001b[0m\u001b[0;34m]\u001b[0m\u001b[0;34m\u001b[0m\u001b[0;34m\u001b[0m\u001b[0m\n\u001b[0;32m----> 2\u001b[0;31m \u001b[0mlidar_points_in_image\u001b[0m\u001b[0;34m[\u001b[0m\u001b[0;34m:\u001b[0m\u001b[0;34m,\u001b[0m\u001b[0mx\u001b[0m\u001b[0;34m]\u001b[0m\u001b[0;34m\u001b[0m\u001b[0;34m\u001b[0m\u001b[0m\n\u001b[0m",
      "\u001b[0;31mNameError\u001b[0m: name 'lidar_points_in_image' is not defined"
     ]
    }
   ],
   "source": [
    "x = [1, 2, 3]\n",
    "lidar_points_in_image[:,x]"
   ]
  },
  {
   "cell_type": "code",
   "execution_count": 21,
   "metadata": {},
   "outputs": [
    {
     "ename": "NameError",
     "evalue": "name 'cam_data' is not defined",
     "output_type": "error",
     "traceback": [
      "\u001b[0;31m---------------------------------------------------------------------------\u001b[0m",
      "\u001b[0;31mNameError\u001b[0m                                 Traceback (most recent call last)",
      "\u001b[0;32m<ipython-input-21-f561f13f8cbd>\u001b[0m in \u001b[0;36m<module>\u001b[0;34m\u001b[0m\n\u001b[0;32m----> 1\u001b[0;31m \u001b[0;32mfor\u001b[0m \u001b[0mdata\u001b[0m \u001b[0;32min\u001b[0m \u001b[0mcam_data\u001b[0m\u001b[0;34m:\u001b[0m\u001b[0;34m\u001b[0m\u001b[0;34m\u001b[0m\u001b[0m\n\u001b[0m\u001b[1;32m      2\u001b[0m     \u001b[0mprint\u001b[0m\u001b[0;34m(\u001b[0m\u001b[0mdata\u001b[0m\u001b[0;34m[\u001b[0m\u001b[0;34m'filename'\u001b[0m\u001b[0;34m]\u001b[0m\u001b[0;34m)\u001b[0m\u001b[0;34m\u001b[0m\u001b[0;34m\u001b[0m\u001b[0m\n",
      "\u001b[0;31mNameError\u001b[0m: name 'cam_data' is not defined"
     ]
    }
   ],
   "source": [
    "for data in cam_data: \n",
    "    print(data['filename'])"
   ]
  },
  {
   "cell_type": "code",
   "execution_count": 22,
   "metadata": {},
   "outputs": [],
   "source": [
    "my_scene_token = nusc.field2token('scene', 'name','scene-0061')"
   ]
  },
  {
   "cell_type": "code",
   "execution_count": null,
   "metadata": {},
   "outputs": [],
   "source": [
    "my_scene_token"
   ]
  },
  {
   "cell_type": "code",
   "execution_count": null,
   "metadata": {},
   "outputs": [],
   "source": []
  }
 ],
 "metadata": {
  "kernelspec": {
   "display_name": "Python 3",
   "language": "python",
   "name": "python3"
  },
  "language_info": {
   "codemirror_mode": {
    "name": "ipython",
    "version": 3
   },
   "file_extension": ".py",
   "mimetype": "text/x-python",
   "name": "python",
   "nbconvert_exporter": "python",
   "pygments_lexer": "ipython3",
   "version": "3.7.3"
  }
 },
 "nbformat": 4,
 "nbformat_minor": 2
}
